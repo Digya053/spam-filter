{
 "cells": [
  {
   "cell_type": "code",
   "execution_count": 1,
   "metadata": {},
   "outputs": [],
   "source": [
    "import pandas as pd"
   ]
  },
  {
   "cell_type": "code",
   "execution_count": 2,
   "metadata": {},
   "outputs": [],
   "source": [
    "df = pd.read_csv('data/sms.tsv', sep='\\t')"
   ]
  },
  {
   "cell_type": "code",
   "execution_count": 3,
   "metadata": {},
   "outputs": [
    {
     "data": {
      "text/html": [
       "<div>\n",
       "<style scoped>\n",
       "    .dataframe tbody tr th:only-of-type {\n",
       "        vertical-align: middle;\n",
       "    }\n",
       "\n",
       "    .dataframe tbody tr th {\n",
       "        vertical-align: top;\n",
       "    }\n",
       "\n",
       "    .dataframe thead th {\n",
       "        text-align: right;\n",
       "    }\n",
       "</style>\n",
       "<table border=\"1\" class=\"dataframe\">\n",
       "  <thead>\n",
       "    <tr style=\"text-align: right;\">\n",
       "      <th></th>\n",
       "      <th>sentence</th>\n",
       "      <th>label</th>\n",
       "    </tr>\n",
       "  </thead>\n",
       "  <tbody>\n",
       "    <tr>\n",
       "      <th>0</th>\n",
       "      <td>Go until jurong point, crazy.. Available only ...</td>\n",
       "      <td>1</td>\n",
       "    </tr>\n",
       "    <tr>\n",
       "      <th>1</th>\n",
       "      <td>Ok lar... Joking wif u oni...</td>\n",
       "      <td>1</td>\n",
       "    </tr>\n",
       "    <tr>\n",
       "      <th>2</th>\n",
       "      <td>Free entry in 2 a wkly comp to win FA Cup fina...</td>\n",
       "      <td>0</td>\n",
       "    </tr>\n",
       "    <tr>\n",
       "      <th>3</th>\n",
       "      <td>U dun say so early hor... U c already then say...</td>\n",
       "      <td>1</td>\n",
       "    </tr>\n",
       "    <tr>\n",
       "      <th>4</th>\n",
       "      <td>Nah I don't think he goes to usf, he lives aro...</td>\n",
       "      <td>1</td>\n",
       "    </tr>\n",
       "  </tbody>\n",
       "</table>\n",
       "</div>"
      ],
      "text/plain": [
       "                                            sentence  label\n",
       "0  Go until jurong point, crazy.. Available only ...      1\n",
       "1                     Ok lar... Joking wif u oni...       1\n",
       "2  Free entry in 2 a wkly comp to win FA Cup fina...      0\n",
       "3  U dun say so early hor... U c already then say...      1\n",
       "4  Nah I don't think he goes to usf, he lives aro...      1"
      ]
     },
     "execution_count": 3,
     "metadata": {},
     "output_type": "execute_result"
    }
   ],
   "source": [
    "df.head()"
   ]
  },
  {
   "cell_type": "code",
   "execution_count": 4,
   "metadata": {},
   "outputs": [
    {
     "data": {
      "text/plain": [
       "array([1, 0])"
      ]
     },
     "execution_count": 4,
     "metadata": {},
     "output_type": "execute_result"
    }
   ],
   "source": [
    "df['label'].unique()"
   ]
  },
  {
   "cell_type": "code",
   "execution_count": 5,
   "metadata": {},
   "outputs": [
    {
     "data": {
      "text/plain": [
       "(5574, 2)"
      ]
     },
     "execution_count": 5,
     "metadata": {},
     "output_type": "execute_result"
    }
   ],
   "source": [
    "df.shape"
   ]
  },
  {
   "cell_type": "code",
   "execution_count": 6,
   "metadata": {},
   "outputs": [],
   "source": [
    "def split_four_cols(r1, r2):\n",
    "    col1 = []\n",
    "    col2 = []\n",
    "    col3 = []\n",
    "    col4 = []\n",
    "    count = 0\n",
    "    for i, row in df[r1:r2].iterrows():\n",
    "        col1.append(count)\n",
    "        col2.append(row['label'])\n",
    "        col3.append('a')\n",
    "        col4.append(row['sentence'])\n",
    "        count = count+1\n",
    "    df_new = pd.DataFrame()\n",
    "    df_new['id'] = pd.Series(col1)\n",
    "    df_new['label'] = pd.Series(col2)\n",
    "    df_new['a'] = pd.Series(col3)\n",
    "    df_new['sentence'] = pd.Series(col4)\n",
    "    return df_new"
   ]
  },
  {
   "cell_type": "code",
   "execution_count": 7,
   "metadata": {},
   "outputs": [],
   "source": [
    "def split_two_cols(r1, r2):\n",
    "    col1 = []\n",
    "    col2 = []\n",
    "    count = 0\n",
    "    for i, row in df[r1:r2].iterrows():\n",
    "        col1.append(count)\n",
    "        col2.append(row['sentence'])\n",
    "        count = count+1\n",
    "    df_new = pd.DataFrame()\n",
    "    df_new['id'] = pd.Series(col1)\n",
    "    df_new['sentence'] = pd.Series(col2)\n",
    "    return df_new"
   ]
  },
  {
   "cell_type": "code",
   "execution_count": 8,
   "metadata": {},
   "outputs": [],
   "source": [
    "df_train = split_four_cols(0, 815)\n",
    "df_dev = split_four_cols(4460, 5015)\n",
    "df_test = split_two_cols(5015, 5575)"
   ]
  },
  {
   "cell_type": "code",
   "execution_count": 9,
   "metadata": {},
   "outputs": [
    {
     "data": {
      "text/plain": [
       "(   id  label  a                                           sentence\n",
       " 0   0      1  a  Go until jurong point, crazy.. Available only ...\n",
       " 1   1      1  a                     Ok lar... Joking wif u oni... \n",
       " 2   2      0  a  Free entry in 2 a wkly comp to win FA Cup fina...\n",
       " 3   3      1  a  U dun say so early hor... U c already then say...\n",
       " 4   4      1  a  Nah I don't think he goes to usf, he lives aro..., (815, 4))"
      ]
     },
     "execution_count": 9,
     "metadata": {},
     "output_type": "execute_result"
    }
   ],
   "source": [
    "df_train.head(), df_train.shape"
   ]
  },
  {
   "cell_type": "code",
   "execution_count": 10,
   "metadata": {},
   "outputs": [
    {
     "data": {
      "text/plain": [
       "(   id  label  a                                           sentence\n",
       " 0   0      0  a  Welcome to UK-mobile-date this msg is FREE giv...\n",
       " 1   1      1  a  This is wishing you a great day. Moji told me ...\n",
       " 2   2      1  a  Thanks again for your reply today. When is ur ...\n",
       " 3   3      1  a  Sorry I flaked last night, shit's seriously go...\n",
       " 4   4      1  a  He said i look pretty wif long hair wat. But i..., (555, 4))"
      ]
     },
     "execution_count": 10,
     "metadata": {},
     "output_type": "execute_result"
    }
   ],
   "source": [
    "df_dev.head(), df_dev.shape"
   ]
  },
  {
   "cell_type": "code",
   "execution_count": 11,
   "metadata": {},
   "outputs": [
    {
     "data": {
      "text/plain": [
       "(   id                                           sentence\n",
       " 0   0  Hello boytoy ! Geeee ... I'm missing you today...\n",
       " 1   1  I think the other two still need to get cash b...\n",
       " 2   2     Hey gals...U all wanna meet 4 dinner at nìte? \n",
       " 3   3  Dear 0776xxxxxxx U've been invited to XCHAT. T...\n",
       " 4   4  Babe ! What are you doing ? Where are you ? Wh..., (559, 2))"
      ]
     },
     "execution_count": 11,
     "metadata": {},
     "output_type": "execute_result"
    }
   ],
   "source": [
    "df_test.head(), df_test.shape"
   ]
  },
  {
   "cell_type": "code",
   "execution_count": 12,
   "metadata": {},
   "outputs": [],
   "source": [
    "df_train.to_csv('data/train.tsv', sep='\\t', header=None,index=False)"
   ]
  },
  {
   "cell_type": "code",
   "execution_count": 13,
   "metadata": {},
   "outputs": [],
   "source": [
    "df_dev.to_csv('data/dev.tsv', sep='\\t', header=None,index=False)"
   ]
  },
  {
   "cell_type": "code",
   "execution_count": 14,
   "metadata": {},
   "outputs": [],
   "source": [
    "df_test.to_csv('data/test.tsv', sep='\\t',index=False)"
   ]
  }
 ],
 "metadata": {
  "kernelspec": {
   "display_name": "Python 3",
   "language": "python",
   "name": "python3"
  },
  "language_info": {
   "codemirror_mode": {
    "name": "ipython",
    "version": 3
   },
   "file_extension": ".py",
   "mimetype": "text/x-python",
   "name": "python",
   "nbconvert_exporter": "python",
   "pygments_lexer": "ipython3",
   "version": "3.6.5"
  }
 },
 "nbformat": 4,
 "nbformat_minor": 2
}
